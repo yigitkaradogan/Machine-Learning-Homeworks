{
  "nbformat": 4,
  "nbformat_minor": 0,
  "metadata": {
    "colab": {
      "provenance": []
    },
    "kernelspec": {
      "name": "python3",
      "display_name": "Python 3"
    },
    "language_info": {
      "name": "python"
    }
  },
  "cells": [
    {
      "cell_type": "code",
      "source": [
        "import pandas as pd\n",
        "import numpy as np\n",
        "from tqdm import tqdm\n",
        "import matplotlib.pyplot as plt\n",
        "from sklearn.svm import SVC\n",
        "import random"
      ],
      "metadata": {
        "id": "SclHuA1iwpRz"
      },
      "execution_count": 1,
      "outputs": []
    },
    {
      "cell_type": "code",
      "execution_count": 2,
      "metadata": {
        "id": "wE5xHEVHKq3x",
        "colab": {
          "base_uri": "https://localhost:8080/"
        },
        "outputId": "4f60b689-760a-4818-ea93-c3df1a1a1f3c"
      },
      "outputs": [
        {
          "output_type": "stream",
          "name": "stderr",
          "text": [
            "WARNING:root:pydrive is deprecated and no longer maintained. We recommend that you migrate your projects to pydrive2, the maintained fork of pydrive\n"
          ]
        }
      ],
      "source": [
        "# Code to read csv file into Colaboratory:\n",
        "from pydrive.auth import GoogleAuth\n",
        "from pydrive.drive import GoogleDrive\n",
        "from google.colab import auth\n",
        "from oauth2client.client import GoogleCredentials\n",
        "\n",
        "\n",
        "# Authenticate and create the PyDrive client.\n",
        "auth.authenticate_user()\n",
        "gauth = GoogleAuth()\n",
        "gauth.credentials = GoogleCredentials.get_application_default()\n",
        "drive = GoogleDrive(gauth)"
      ]
    },
    {
      "cell_type": "code",
      "source": [
        "link1 = 'https://drive.google.com/file/d/1ZeYz0HO1dIad7Qro9K5JPdK89D8CG-IB/view?usp=drive_link'\n",
        "link2 = 'https://drive.google.com/file/d/1AnsDdnYT0giKcr9hljGN1vU-9RnlPHoK/view?usp=drive_link'"
      ],
      "metadata": {
        "id": "athYVPmdwX69"
      },
      "execution_count": 3,
      "outputs": []
    },
    {
      "cell_type": "code",
      "source": [
        "id1 = link1.split(\"/\")[-2]\n",
        "id2 = link2.split(\"/\")[-2]\n",
        "\n",
        "downloaded1 = drive.CreateFile({'id':id1})\n",
        "downloaded1.GetContentFile('Spambase_train.csv')\n",
        "downloaded2 = drive.CreateFile({'id':id2})\n",
        "downloaded2.GetContentFile('Spambase_test.csv')"
      ],
      "metadata": {
        "id": "JUOq7eSuweTc"
      },
      "execution_count": 4,
      "outputs": []
    },
    {
      "cell_type": "code",
      "source": [
        "def preprocess_data(file_path):\n",
        "    df = pd.read_csv(file_path, header=None, names=['data'])\n",
        "\n",
        "    features = df['data'].iloc[0].split('\\t')  # Extract feature names from the first row\n",
        "    df = df.iloc[1:]  # Remove the header row\n",
        "\n",
        "    # Split each data row into features\n",
        "    X = df['data'].str.split('\\t', expand=True).astype(float)\n",
        "    X.columns = features\n",
        "\n",
        "    y = X.pop('Class')  # Extract the target class\n",
        "\n",
        "    return X, y\n",
        "\n",
        "X_train, y_train = preprocess_data(\"Spambase_train.csv\")\n",
        "X_test, y_test = preprocess_data(\"Spambase_test.csv\")"
      ],
      "metadata": {
        "id": "vtwtiqyGxdQ1"
      },
      "execution_count": 5,
      "outputs": []
    },
    {
      "cell_type": "code",
      "source": [
        "def calculate_accuracy(y_true, y_pred):\n",
        "    correct = np.sum(y_true == y_pred)\n",
        "    return correct / len(y_true)\n",
        "\n",
        "def monte_carlo_cv(X, y, C, validation_size=0.2):\n",
        "    iterations = [k for k in range(1, 11)]\n",
        "    errors = []\n",
        "    for _ in tqdm(iterations):\n",
        "        data = np.c_[X, y]  # Combine features and labels\n",
        "        np.random.shuffle(data)  # Shuffle rows\n",
        "\n",
        "        split_index = int(len(data) * (1 - validation_size))\n",
        "        X_train, y_train = data[:split_index, :-1], data[:split_index, -1]\n",
        "        X_val, y_val = data[split_index:, :-1], data[split_index:, -1]\n",
        "\n",
        "        # Training the SVM\n",
        "        model = SVC(kernel='linear', C=C)\n",
        "        model.fit(X_train, y_train)\n",
        "\n",
        "        # Evaluation\n",
        "        y_pred = model.predict(X_val)\n",
        "        error = 1 - calculate_accuracy(y_val, y_pred)\n",
        "        errors.append(error)\n",
        "\n",
        "    return sum(errors) / len(errors)\n",
        "\n",
        "C_values = [0.01, 0.1, 1, 10, 100, 1000]\n",
        "\n",
        "best_C = None\n",
        "best_error = float('inf')\n",
        "for C in C_values:\n",
        "    error = monte_carlo_cv(X_train, y_train, C)\n",
        "    print(f\"Error for C={C}: {error:.4f}\")  # Print error for each C value\n",
        "    if error < best_error:\n",
        "        best_C = C\n",
        "        best_error = error\n",
        "\n",
        "print(\"Best C value:\", best_C)"
      ],
      "metadata": {
        "colab": {
          "base_uri": "https://localhost:8080/"
        },
        "id": "_xPZiR3Gxq6T",
        "outputId": "a748a110-b212-4268-b23b-b18792b078a9"
      },
      "execution_count": 6,
      "outputs": [
        {
          "output_type": "stream",
          "name": "stderr",
          "text": [
            "100%|██████████| 10/10 [00:02<00:00,  3.53it/s]\n"
          ]
        },
        {
          "output_type": "stream",
          "name": "stdout",
          "text": [
            "Error for C=0.01: 0.1260\n"
          ]
        },
        {
          "output_type": "stream",
          "name": "stderr",
          "text": [
            "100%|██████████| 10/10 [01:04<00:00,  6.42s/it]\n"
          ]
        },
        {
          "output_type": "stream",
          "name": "stdout",
          "text": [
            "Error for C=0.1: 0.0896\n"
          ]
        },
        {
          "output_type": "stream",
          "name": "stderr",
          "text": [
            "100%|██████████| 10/10 [03:25<00:00, 20.51s/it]\n"
          ]
        },
        {
          "output_type": "stream",
          "name": "stdout",
          "text": [
            "Error for C=1: 0.0844\n"
          ]
        },
        {
          "output_type": "stream",
          "name": "stderr",
          "text": [
            "100%|██████████| 10/10 [21:07<00:00, 126.73s/it]\n"
          ]
        },
        {
          "output_type": "stream",
          "name": "stdout",
          "text": [
            "Error for C=10: 0.0823\n"
          ]
        },
        {
          "output_type": "stream",
          "name": "stderr",
          "text": [
            "100%|██████████| 10/10 [59:09<00:00, 354.95s/it]\n"
          ]
        },
        {
          "output_type": "stream",
          "name": "stdout",
          "text": [
            "Error for C=100: 0.1031\n"
          ]
        },
        {
          "output_type": "stream",
          "name": "stderr",
          "text": [
            "100%|██████████| 10/10 [50:23<00:00, 302.40s/it]"
          ]
        },
        {
          "output_type": "stream",
          "name": "stdout",
          "text": [
            "Error for C=1000: 0.0885\n",
            "Best C value: 10\n"
          ]
        },
        {
          "output_type": "stream",
          "name": "stderr",
          "text": [
            "\n"
          ]
        }
      ]
    },
    {
      "cell_type": "code",
      "source": [
        "# Train the final model with the best C\n",
        "model = SVC(kernel='linear', C=best_C)\n",
        "model.fit(X_train, y_train)\n",
        "\n",
        "# Prediction on test set\n",
        "y_pred = model.predict(X_test)\n",
        "\n",
        "def confusion_matrix(y_true, y_pred):\n",
        "    tp = 0\n",
        "    fp = 0\n",
        "    tn = 0\n",
        "    fn = 0\n",
        "\n",
        "    for true_label, predicted_label in zip(y_true, y_pred):\n",
        "        if true_label == predicted_label and true_label == 1:\n",
        "            tp += 1\n",
        "        elif true_label == predicted_label and true_label == 0:\n",
        "            tn += 1\n",
        "        elif true_label != predicted_label and true_label == 0:\n",
        "            fp += 1\n",
        "        else:  # true_label != predicted_label and true_label == 1\n",
        "            fn += 1\n",
        "\n",
        "    return tp, fp, tn, fn\n",
        "\n",
        "tp, fp, tn, fn = confusion_matrix(y_test, y_pred)\n",
        "print(\"Confusion Matrix:\\n\", np.array([[tp, fp], [fn, tn]]))\n",
        "\n",
        "def calculate_metrics(y_true, y_pred):\n",
        "    tp, fp, tn, fn = confusion_matrix(y_true, y_pred)\n",
        "\n",
        "    accuracy = (tp + tn) / (tp + tn + fp + fn)\n",
        "\n",
        "    if tp + fp == 0:\n",
        "        precision = 0\n",
        "    else:\n",
        "        precision = tp / (tp + fp)\n",
        "\n",
        "    if tp + fn == 0:\n",
        "        recall = 0\n",
        "    else:\n",
        "        recall = tp / (tp + fn)\n",
        "\n",
        "    if precision + recall == 0:\n",
        "        f1 = 0\n",
        "    else:\n",
        "        f1 = 2 * (precision * recall) / (precision + recall)\n",
        "\n",
        "    if tn + fn == 0:\n",
        "        npv = 0\n",
        "    else:\n",
        "        npv = tn / (tn + fn)\n",
        "\n",
        "    if fp + tn == 0:\n",
        "        fpr = 0\n",
        "    else:\n",
        "        fpr = fp / (fp + tn)\n",
        "\n",
        "    if fp + tp == 0:\n",
        "        fdr = 0\n",
        "    else:\n",
        "        fdr = fp / (fp + tp)\n",
        "\n",
        "    if (4 * precision + recall) == 0:\n",
        "        f2 = 0\n",
        "    else:\n",
        "        f2 = (5 * precision * recall) / (4 * precision + recall)\n",
        "\n",
        "    return accuracy, precision, recall, f1, npv, fpr, fdr, f2\n",
        "\n",
        "# Calculate metrics\n",
        "accuracy, precision, recall, f1, npv, fpr, fdr, f2 = calculate_metrics(y_test, y_pred)\n",
        "\n",
        "# Print metrics\n",
        "print(\"Performance Metrics:\")\n",
        "print(f\"Accuracy: {accuracy:.2f}\")\n",
        "print(f\"Precision: {precision:.2f}\")\n",
        "print(f\"Recall: {recall:.2f}\")\n",
        "print(f\"F1 Score: {f1:.2f}\")\n",
        "print(f\"F2 Score: {f2:.2f}\")\n",
        "print(f\"Negative Predictive Value (NPV): {npv:.2f}\")\n",
        "print(f\"False Positive Rate (FPR): {fpr:.2f}\")\n",
        "print(f\"False Discovery Rate (FDR): {fdr:.2f}\")"
      ],
      "metadata": {
        "colab": {
          "base_uri": "https://localhost:8080/"
        },
        "id": "S983WGpzx9Vu",
        "outputId": "f630cfae-56c4-4f68-8bdf-6e5f4952610f"
      },
      "execution_count": 7,
      "outputs": [
        {
          "output_type": "stream",
          "name": "stdout",
          "text": [
            "Confusion Matrix:\n",
            " [[47  5]\n",
            " [ 3 45]]\n",
            "Performance Metrics:\n",
            "Accuracy: 0.92\n",
            "Precision: 0.90\n",
            "Recall: 0.94\n",
            "F1 Score: 0.92\n",
            "F2 Score: 0.93\n",
            "Negative Predictive Value (NPV): 0.94\n",
            "False Positive Rate (FPR): 0.10\n",
            "False Discovery Rate (FDR): 0.10\n"
          ]
        }
      ]
    },
    {
      "cell_type": "code",
      "source": [
        "def calculate_accuracy(y_true, y_pred):\n",
        "    correct = np.sum(y_true == y_pred)\n",
        "    return correct / len(y_true)\n",
        "\n",
        "def polynomial_kernel_mccv(X, y, C, d, validation_size=0.2):\n",
        "    iterations = [k for k in range(1, 11)]\n",
        "    errors = []\n",
        "    for _ in (iterations):\n",
        "        data = np.c_[X, y]  # Combine features and labels\n",
        "        np.random.shuffle(data)  # Shuffle rows\n",
        "\n",
        "        split_index = int(len(data) * (1 - validation_size))\n",
        "        X_train, y_train = data[:split_index, :-1], data[:split_index, -1]\n",
        "        X_val, y_val = data[split_index:, :-1], data[split_index:, -1]\n",
        "\n",
        "        # Train SVM with polynomial kernel\n",
        "        model = SVC(kernel='poly', degree=d, C=C)\n",
        "        model.fit(X_train, y_train)\n",
        "\n",
        "        # Evaluation\n",
        "        y_pred = model.predict(X_val)\n",
        "        error = 1 - calculate_accuracy(y_val, y_pred)\n",
        "        errors.append(error)\n",
        "\n",
        "    return sum(errors) / len(errors)\n",
        "\n",
        "# Load data\n",
        "X_train, y_train = preprocess_data(\"Spambase_train.csv\")\n",
        "X_test, y_test = preprocess_data(\"Spambase_test.csv\")\n",
        "\n",
        "# Define hyperparameter ranges\n",
        "C_values = [0.01, 0.1, 1, 10, 100, 1000]\n",
        "d_values = [2, 3, 4, 5]\n",
        "\n",
        "best_C = None\n",
        "best_d = None\n",
        "best_error = float('inf')\n",
        "plt.figure(figsize=(10, 6))\n",
        "\n",
        "error_results = {}\n",
        "for C in C_values:\n",
        "    for d in d_values:\n",
        "        error = polynomial_kernel_mccv(X_train, y_train, C, d)\n",
        "        print(f\"Error for C={C}, d={d}: {error:.4f}\")\n",
        "        error_results[(C, d)] = error\n",
        "\n",
        "        if error < best_error:\n",
        "          best_C = C\n",
        "          best_d = d\n",
        "          best_error = error\n",
        "\n",
        "for C in C_values:\n",
        "    errors_for_C = [error_results[(C, d)] for d in d_values]\n",
        "    plt.plot(d_values, errors_for_C, marker='o', label=f\"C={C}\")\n",
        "\n",
        "plt.xlabel(\"d (polynomial degree)\")\n",
        "plt.ylabel(\"Error rate\")\n",
        "plt.title(\"Error Rates for Polynomial Kernel SVM with Varying C and d\")\n",
        "plt.legend()\n",
        "plt.grid(True)\n",
        "plt.show()\n",
        "\n",
        "print(\"Best C value:\", best_C)\n",
        "print(\"Best d value:\", best_d)"
      ],
      "metadata": {
        "colab": {
          "base_uri": "https://localhost:8080/",
          "height": 1000
        },
        "id": "zjSt4gb-Oo8z",
        "outputId": "303102e6-c7d5-42da-e38b-77ad5ae9b08f"
      },
      "execution_count": 17,
      "outputs": [
        {
          "output_type": "stream",
          "name": "stdout",
          "text": [
            "Error for C=0.01, d=2: 0.5208\n",
            "Error for C=0.01, d=3: 0.5083\n",
            "Error for C=0.01, d=4: 0.5146\n",
            "Error for C=0.01, d=5: 0.5333\n",
            "Error for C=0.1, d=2: 0.5385\n",
            "Error for C=0.1, d=3: 0.5375\n",
            "Error for C=0.1, d=4: 0.5052\n",
            "Error for C=0.1, d=5: 0.5417\n",
            "Error for C=1, d=2: 0.5125\n",
            "Error for C=1, d=3: 0.4990\n",
            "Error for C=1, d=4: 0.5177\n",
            "Error for C=1, d=5: 0.4969\n",
            "Error for C=10, d=2: 0.4792\n",
            "Error for C=10, d=3: 0.4885\n",
            "Error for C=10, d=4: 0.4823\n",
            "Error for C=10, d=5: 0.4865\n",
            "Error for C=100, d=2: 0.4292\n",
            "Error for C=100, d=3: 0.4635\n",
            "Error for C=100, d=4: 0.4719\n",
            "Error for C=100, d=5: 0.4875\n",
            "Error for C=1000, d=2: 0.3312\n",
            "Error for C=1000, d=3: 0.4042\n",
            "Error for C=1000, d=4: 0.4219\n",
            "Error for C=1000, d=5: 0.4667\n"
          ]
        },
        {
          "output_type": "display_data",
          "data": {
            "text/plain": [
              "<Figure size 1000x600 with 1 Axes>"
            ],
            "image/png": "[encoded data removed]"
          },
          "metadata": {}
        },
        {
          "output_type": "stream",
          "name": "stdout",
          "text": [
            "Best C value: 1000\n",
            "Best d value: 2\n"
          ]
        }
      ]
    },
    {
      "cell_type": "code",
      "source": [
        "# Train the final model with the best C\n",
        "model = SVC(kernel='poly', degree=best_d, C=best_C)\n",
        "model.fit(X_train, y_train)\n",
        "\n",
        "# Prediction on test set\n",
        "y_pred = model.predict(X_test)\n",
        "\n",
        "def confusion_matrix(y_true, y_pred):\n",
        "    tp = 0\n",
        "    fp = 0\n",
        "    tn = 0\n",
        "    fn = 0\n",
        "\n",
        "    for true_label, predicted_label in zip(y_true, y_pred):\n",
        "        if true_label == predicted_label and true_label == 1:\n",
        "            tp += 1\n",
        "        elif true_label == predicted_label and true_label == 0:\n",
        "            tn += 1\n",
        "        elif true_label != predicted_label and true_label == 0:\n",
        "            fp += 1\n",
        "        else:  # true_label != predicted_label and true_label == 1\n",
        "            fn += 1\n",
        "\n",
        "    return tp, fp, tn, fn\n",
        "\n",
        "tp, fp, tn, fn = confusion_matrix(y_test, y_pred)\n",
        "print(\"Confusion Matrix:\\n\", np.array([[tp, fp], [fn, tn]]))\n",
        "\n",
        "def calculate_metrics(y_true, y_pred):\n",
        "    tp, fp, tn, fn = confusion_matrix(y_true, y_pred)\n",
        "\n",
        "    accuracy = (tp + tn) / (tp + tn + fp + fn)\n",
        "\n",
        "    if tp + fp == 0:\n",
        "        precision = 0\n",
        "    else:\n",
        "        precision = tp / (tp + fp)\n",
        "\n",
        "    if tp + fn == 0:\n",
        "        recall = 0\n",
        "    else:\n",
        "        recall = tp / (tp + fn)\n",
        "\n",
        "    if precision + recall == 0:\n",
        "        f1 = 0\n",
        "    else:\n",
        "        f1 = 2 * (precision * recall) / (precision + recall)\n",
        "\n",
        "    if tn + fn == 0:\n",
        "        npv = 0\n",
        "    else:\n",
        "        npv = tn / (tn + fn)\n",
        "\n",
        "    if fp + tn == 0:\n",
        "        fpr = 0\n",
        "    else:\n",
        "        fpr = fp / (fp + tn)\n",
        "\n",
        "    if fp + tp == 0:\n",
        "        fdr = 0\n",
        "    else:\n",
        "        fdr = fp / (fp + tp)\n",
        "\n",
        "    if (4 * precision + recall) == 0:\n",
        "        f2 = 0\n",
        "    else:\n",
        "        f2 = (5 * precision * recall) / (4 * precision + recall)\n",
        "\n",
        "    return accuracy, precision, recall, f1, npv, fpr, fdr, f2\n",
        "\n",
        "# Calculate metrics\n",
        "accuracy, precision, recall, f1, npv, fpr, fdr, f2 = calculate_metrics(y_test, y_pred)\n",
        "\n",
        "# Print metrics\n",
        "print(\"Performance Metrics:\")\n",
        "print(f\"Accuracy: {accuracy:.2f}\")\n",
        "print(f\"Precision: {precision:.2f}\")\n",
        "print(f\"Recall: {recall:.2f}\")\n",
        "print(f\"F1 Score: {f1:.2f}\")\n",
        "print(f\"F2 Score: {f2:.2f}\")\n",
        "print(f\"Negative Predictive Value (NPV): {npv:.2f}\")\n",
        "print(f\"False Positive Rate (FPR): {fpr:.2f}\")\n",
        "print(f\"False Discovery Rate (FDR): {fdr:.2f}\")"
      ],
      "metadata": {
        "colab": {
          "base_uri": "https://localhost:8080/"
        },
        "id": "qYU8N25mPLSE",
        "outputId": "4800a243-aac0-41e3-e16e-4ecd9374d2c8"
      },
      "execution_count": 18,
      "outputs": [
        {
          "output_type": "stream",
          "name": "stdout",
          "text": [
            "Confusion Matrix:\n",
            " [[25  2]\n",
            " [25 48]]\n",
            "Performance Metrics:\n",
            "Accuracy: 0.73\n",
            "Precision: 0.93\n",
            "Recall: 0.50\n",
            "F1 Score: 0.65\n",
            "F2 Score: 0.55\n",
            "Negative Predictive Value (NPV): 0.66\n",
            "False Positive Rate (FPR): 0.04\n",
            "False Discovery Rate (FDR): 0.07\n"
          ]
        }
      ]
    }
  ]
}